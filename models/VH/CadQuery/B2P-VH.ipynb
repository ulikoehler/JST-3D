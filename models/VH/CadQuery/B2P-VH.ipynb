{
 "cells": [
  {
   "cell_type": "code",
   "execution_count": null,
   "metadata": {},
   "outputs": [],
   "source": [
    "import cadquery as cq\n",
    "from cadquery import Vector, Location\n",
    "import math\n",
    "\n",
    "# Set parameters\n",
    "n = 2 # Number of pins\n",
    "P = 3.96 # mm pin pitch\n",
    "C1 = 6.8 # mm Height of bottom plate\n",
    "H1 = 9.4 # mm Height of latching plate\n",
    "O1 = 2 # mm Vertical offset pin-center to bottom plate border\n",
    "D1 = 3.2 # mm Total depth of bottom plate\n",
    "Pw = 1.14 # mm Width & height of square pin\n",
    "D2 = 1.3 # mm (Measured) depth of latching plate (narrowest section)\n",
    "Wx1 = 1.0 # mm (Measured) Width of the topmost part of the latching plate\n",
    "Hx1 = 0.5 # mm (Measured) Height of the latching surface facing away from the pins\n",
    "alpha = 90 # ° Angle of the latching surface. Shown by the datasheet as ~45°but real parts have 90°\n",
    "beta = 15 # ° (Estimated) Latching plate tapering angle\n",
    "WL1 = 1.27 # mm (Measured) With of the section of the bottom plate where there is no latching plate per side)\n",
    "Dlatch = 1.75 # mm (Measured) Total depth of latching plate\n",
    "delta = 70 # ° (Estimated) Taper angle of the pin top & bottoms\n",
    "FilletRadiusBaseplate = 0.4 # mm\n",
    "\n",
    "# Compute derived variables\n",
    "A1 = ( n - 1 ) * P # Total width of all pins (center of last pin distance to center of first pin)\n",
    "B1 = A1 + ( 1.95 * 2 ) # Width of bottom plate\n",
    "LLatch = B1 - ( WL1 * 2 ) # Length of the latching plate\n",
    "LPinTop = 7.7 + D1 # Length of the pin measured from the bottom plane to the top of the pin (away from PCB)\n",
    "LPinBottom = 14.6 - LPinTop # Length of the pin in bottom direction, measured from the bottom plane\n",
    "Pin1XOffset = ( ( n - 1 ) * P ) / 2 # First pin X offset measured from the X axis\n"
   ]
  },
  {
   "cell_type": "code",
   "execution_count": null,
   "metadata": {},
   "outputs": [],
   "source": [
    "import cadquery as cq\n",
    "\n",
    "base_box = cq.Workplane(\"XY\").box(B1, C1, D1).translate((0, 0, D1 / 2)) # Bottom of plate => Z=0\n",
    "base_box = base_box.edges(\"|Z\").fillet(FilletRadiusBaseplate)\n",
    "base_box"
   ]
  },
  {
   "cell_type": "code",
   "execution_count": null,
   "metadata": {},
   "outputs": [],
   "source": [
    "# Compute asymmetric chamfer with constant angle triangle lengths\n",
    "# Note: Top-facing angle of the chamfering triangle is [beta]\n",
    "opposing_side = (Dlatch - Wx1) / 2 # Compute so that remaining part of latch is Wx1 wide\n",
    "adjacent_side = opposing_side * (1/math.tan(math.radians(beta)))\n",
    "\n",
    "# Start just outside the bottom plate\n",
    "xstart = C1/2\n",
    "xend = xstart + Dlatch\n",
    "h1MinusChamfer = H1 - adjacent_side\n",
    "latchPlate = (cq.Workplane(\"YZ\")\n",
    "    .sketch()\n",
    "    # From bottom to start of chamfer\n",
    "    .segment((xstart, 0), (xstart, h1MinusChamfer))\n",
    "    # Chamfer edge\n",
    "    .segment((xstart + opposing_side, H1))\n",
    "    # Top side of latch (straight line) (up to begin of other side chamfer)\n",
    "    .segment((xend - opposing_side, H1))\n",
    "    # Chamfer edge\n",
    "    .segment((xend, h1MinusChamfer))\n",
    "    # move down to begin of latching surface\n",
    "    .segment((xend, h1MinusChamfer - Hx1))\n",
    "    # Move inwards (-X) for latching surface. NOTE: we assume 90° angle here\n",
    "    # NOTE: D2 is the depth of the latching plate below the latching surface\n",
    "    .segment((xstart + D2, h1MinusChamfer - Hx1))\n",
    "    # From latching surface inside to bottom\n",
    "    .segment((xstart + D2, 0))\n",
    "    .close()\n",
    "    .assemble(tag=\"face\")\n",
    "    .finalize()\n",
    "    .extrude(LLatch/2.0, both=True)\n",
    ")\n",
    "plastic = latchPlate.union(base_box)\n",
    "plastic"
   ]
  },
  {
   "cell_type": "code",
   "execution_count": null,
   "metadata": {},
   "outputs": [],
   "source": []
  },
  {
   "cell_type": "code",
   "execution_count": null,
   "metadata": {},
   "outputs": [],
   "source": [
    "# Create pins\n",
    "pin_sketch = (\n",
    "    cq.Workplane(\"XY\")\n",
    "    .sketch()\n",
    "    .push([cq.Location((Pin1XOffset, (C1/2)-O1, 0))])\n",
    "    .rect(Pw, Pw)\n",
    "    .finalize()\n",
    ")\n",
    "pin = pin_sketch.extrude(LPinTop).union(pin_sketch.extrude(-LPinBottom))\n",
    "# Chamfer top & bottom\n",
    "pin = pin.faces(\">Z\").chamfer(0.2)\n",
    "pin = pin.faces(\"<Z\").chamfer(0.2)\n",
    "pin.union(plastic)"
   ]
  },
  {
   "cell_type": "code",
   "execution_count": null,
   "metadata": {},
   "outputs": [],
   "source": [
    "obj.edges(\">Z\").edges(\"|X\").chamfer(0.5)"
   ]
  },
  {
   "cell_type": "code",
   "execution_count": null,
   "metadata": {},
   "outputs": [],
   "source": [
    "import cadquery as cq\n",
    "\n",
    "import cadquery as cq\n",
    "\n",
    "xstart = 1.0\n",
    "height = 4.0\n",
    "width = 1.0\n",
    "obj = cq.Workplane(\"YZ\")\\\n",
    "    .sketch()\\\n",
    "    .line(0, height)\\\n",
    "    .line(width, 0)\\\n",
    "    .line(0, -height)\\\n",
    "    .close()\\\n",
    "    .assemble(tag=\"face\")\\\n",
    "    .finalize()\\\n",
    "    .extrude(0.1)\n",
    "obj"
   ]
  },
  {
   "cell_type": "code",
   "execution_count": null,
   "metadata": {},
   "outputs": [],
   "source": []
  }
 ],
 "metadata": {
  "kernelspec": {
   "display_name": "Python 3",
   "language": "python",
   "name": "python3"
  },
  "language_info": {
   "codemirror_mode": {
    "name": "ipython",
    "version": 3
   },
   "file_extension": ".py",
   "mimetype": "text/x-python",
   "name": "python",
   "nbconvert_exporter": "python",
   "pygments_lexer": "ipython3",
   "version": "3.9.13"
  }
 },
 "nbformat": 4,
 "nbformat_minor": 2
}
